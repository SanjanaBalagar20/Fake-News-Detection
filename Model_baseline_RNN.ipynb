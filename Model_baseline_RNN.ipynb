{
 "cells": [
  {
   "cell_type": "code",
   "execution_count": null,
   "metadata": {
    "id": "H8niokmbcdru"
   },
   "outputs": [],
   "source": []
  },
  {
   "cell_type": "code",
   "execution_count": null,
   "metadata": {
    "colab": {
     "base_uri": "https://localhost:8080/"
    },
    "id": "ZMRXZlGychWZ",
    "outputId": "8a89ee1a-1995-4288-aa35-c88823bfd0d6"
   },
   "outputs": [
    {
     "name": "stdout",
     "output_type": "stream",
     "text": [
      "Mounted at /content/gdrive\n"
     ]
    }
   ],
   "source": [
    "import os \n",
    "\n",
    "from google.colab import drive\n",
    "\n",
    "drive.mount('/content/gdrive')"
   ]
  },
  {
   "cell_type": "code",
   "execution_count": null,
   "metadata": {
    "id": "30m8XnOhchUG"
   },
   "outputs": [],
   "source": [
    "os.chdir(\"/content/gdrive/MyDrive/DATA255/project\")"
   ]
  },
  {
   "cell_type": "code",
   "execution_count": null,
   "metadata": {
    "colab": {
     "base_uri": "https://localhost:8080/"
    },
    "id": "OozPf0A1chSU",
    "outputId": "91cd5bb8-8d0a-48e9-8d5e-fb449923bf49"
   },
   "outputs": [
    {
     "name": "stderr",
     "output_type": "stream",
     "text": [
      "[nltk_data] Downloading package stopwords to /root/nltk_data...\n",
      "[nltk_data]   Package stopwords is already up-to-date!\n",
      "[nltk_data] Downloading package punkt to /root/nltk_data...\n",
      "[nltk_data]   Package punkt is already up-to-date!\n",
      "[nltk_data] Downloading package wordnet to /root/nltk_data...\n",
      "[nltk_data]   Package wordnet is already up-to-date!\n",
      "[nltk_data] Downloading package omw-1.4 to /root/nltk_data...\n",
      "[nltk_data]   Package omw-1.4 is already up-to-date!\n"
     ]
    }
   ],
   "source": [
    "import pandas as pd\n",
    "import numpy as np\n",
    "import random\n",
    "\n",
    "import re \n",
    "import string\n",
    "\n",
    "import nltk\n",
    "nltk.download('stopwords')\n",
    "nltk.download('punkt')\n",
    "nltk.download('wordnet')\n",
    "nltk.download('omw-1.4')\n",
    "\n",
    "from nltk.corpus import stopwords\n",
    "from nltk.tokenize import word_tokenize, RegexpTokenizer\n",
    "from nltk.stem import WordNetLemmatizer\n",
    "from collections import Counter\n",
    "\n",
    "import sklearn\n",
    "from sklearn.feature_extraction.text import CountVectorizer\n",
    "from sklearn.model_selection import train_test_split\n",
    "from sklearn.metrics import roc_curve, auc, confusion_matrix, classification_report\n",
    "\n",
    "from keras.preprocessing.text import Tokenizer\n",
    "from keras_preprocessing.sequence import pad_sequences\n",
    "\n",
    "from keras.models import Sequential, Model\n",
    "from keras.layers import Input, Dense, Embedding, Flatten, BatchNormalization, Bidirectional, GaussianNoise\n",
    "from keras.layers import Reshape,  Concatenate, Dropout, SpatialDropout1D, SpatialDropout2D\n",
    "from keras.layers import SimpleRNN, LSTM, GRU, Conv1D, Conv2D, Attention, MaxPooling1D, MaxPooling2D\n",
    "from keras import optimizers\n",
    "from tensorflow.keras.optimizers import schedules\n",
    "from keras.callbacks import ModelCheckpoint, EarlyStopping\n",
    "from keras.models import load_model\n",
    "from keras.utils import plot_model\n",
    "from keras import backend as K\n",
    "from keras.layers import Layer\n",
    "\n",
    "from matplotlib import pyplot as plt\n",
    "from matplotlib import style\n",
    "import seaborn as sns"
   ]
  },
  {
   "cell_type": "code",
   "execution_count": null,
   "metadata": {
    "id": "CAKmw7FHchQW"
   },
   "outputs": [],
   "source": [
    "# Load data\n",
    "\n",
    "train = pd.read_csv('train.csv')\n",
    "test = pd.read_csv('test.csv')\n",
    "X_train, y_train = train['processed_text'].astype(str), train['label']\n",
    "X_test, y_test = test['processed_text'].astype(str), test['label']"
   ]
  },
  {
   "cell_type": "code",
   "execution_count": null,
   "metadata": {
    "colab": {
     "base_uri": "https://localhost:8080/"
    },
    "id": "aBUKpGWNchOl",
    "outputId": "d760b812-13e1-46b5-9238-a07d2032b47b"
   },
   "outputs": [
    {
     "data": {
      "text/plain": [
       "0    trump say would surprise iran compliant nuclea...\n",
       "1    trump nominate robert jackson seat sec sourcew...\n",
       "2    discover former pakistaniborn muslim aide inve...\n",
       "Name: processed_text, dtype: object"
      ]
     },
     "execution_count": 5,
     "metadata": {},
     "output_type": "execute_result"
    }
   ],
   "source": [
    "X_train.head(3)"
   ]
  },
  {
   "cell_type": "code",
   "execution_count": null,
   "metadata": {
    "colab": {
     "base_uri": "https://localhost:8080/"
    },
    "id": "Tywv1N9YchM0",
    "outputId": "eedbf71e-4f16-49ec-f3d9-556cdc8f6734"
   },
   "outputs": [
    {
     "name": "stdout",
     "output_type": "stream",
     "text": [
      "(78684,) (26228,)\n",
      "(78684,) (26228,)\n"
     ]
    }
   ],
   "source": [
    "print(X_train.shape, X_test.shape)\n",
    "print(y_train.shape, y_test.shape)"
   ]
  },
  {
   "cell_type": "code",
   "execution_count": null,
   "metadata": {
    "id": "BTCJWMxmchLQ"
   },
   "outputs": [],
   "source": [
    "def max_lenth():\n",
    "    text_len = []\n",
    "    for text in X_train:\n",
    "        text_len.append(len(text))\n",
    "    return int(np.ceil(np.mean(text_len)))"
   ]
  },
  {
   "cell_type": "code",
   "execution_count": null,
   "metadata": {
    "colab": {
     "base_uri": "https://localhost:8080/"
    },
    "id": "jT1n-VvIchJe",
    "outputId": "a9e433a0-8f50-41e2-f8b9-0b91444f52f8"
   },
   "outputs": [
    {
     "name": "stdout",
     "output_type": "stream",
     "text": [
      "Vocabulary Size :-  363005\n",
      "Encoded X Train\n",
      " [[   2    1    4 ...    0    0    0]\n",
      " [   2 1595 1051 ...    0    0    0]\n",
      " [1360   64  563 ...  483  259  157]\n",
      " ...\n",
      " [6208  830  557 ...    0    0    0]\n",
      " [   7   94   13 ...    0    0    0]\n",
      " [ 216  540  149 ...   12  555  132]] \n",
      "\n",
      "Encoded X Test\n",
      " [[1214 8510    9 ...    0    0    0]\n",
      " [ 519 9058 8324 ...    0    0    0]\n",
      " [3610  609  311 ...  743  222 1192]\n",
      " ...\n",
      " [5026 2858 2205 ...    0    0    0]\n",
      " [2631  154  181 ...  338  201 1022]\n",
      " [  33  279 3539 ...  472 4190  232]] \n",
      "\n",
      "Maximum sequence length:  236\n"
     ]
    }
   ],
   "source": [
    "# tokenize and Pad/Truncate Text\n",
    "\n",
    "max_num_words = 10000\n",
    "max_seq_length = 500\n",
    "\n",
    "tokenizer = Tokenizer(num_words = max_num_words, lower=False)\n",
    "tokenizer.fit_on_texts(X_train)\n",
    "\n",
    "X_train = tokenizer.texts_to_sequences(X_train)\n",
    "X_test = tokenizer.texts_to_sequences(X_test)\n",
    "\n",
    "max_seq_length = max_lenth()\n",
    "\n",
    "X_train = pad_sequences(X_train, maxlen = max_seq_length, padding='post', truncating='post')\n",
    "X_test = pad_sequences(X_test, maxlen = max_seq_length, padding='post', truncating='post')\n",
    "\n",
    "total_words = len(tokenizer.word_index) + 1\n",
    "\n",
    "print(\"Vocabulary Size :- \",total_words)\n",
    "print('Encoded X Train\\n', X_train, '\\n')\n",
    "print('Encoded X Test\\n', X_test, '\\n')\n",
    "print('Maximum sequence length: ', max_seq_length)"
   ]
  },
  {
   "cell_type": "code",
   "execution_count": null,
   "metadata": {
    "colab": {
     "base_uri": "https://localhost:8080/"
    },
    "id": "Z6JKT8richED",
    "outputId": "fa592bab-eb25-48ff-ddf3-c99da631a9cc"
   },
   "outputs": [
    {
     "name": "stdout",
     "output_type": "stream",
     "text": [
      "Model: \"model\"\n",
      "_________________________________________________________________\n",
      " Layer (type)                Output Shape              Param #   \n",
      "=================================================================\n",
      " input_1 (InputLayer)        [(None, 236)]             0         \n",
      "                                                                 \n",
      " embedding (Embedding)       (None, 236, 300)          3000000   \n",
      "                                                                 \n",
      " simple_rnn (SimpleRNN)      (None, 32)                10656     \n",
      "                                                                 \n",
      " dense (Dense)               (None, 1)                 33        \n",
      "                                                                 \n",
      "=================================================================\n",
      "Total params: 3,010,689\n",
      "Trainable params: 10,689\n",
      "Non-trainable params: 3,000,000\n",
      "_________________________________________________________________\n"
     ]
    },
    {
     "name": "stderr",
     "output_type": "stream",
     "text": [
      "/usr/local/lib/python3.8/dist-packages/keras/optimizers/optimizer_v2/adam.py:110: UserWarning: The `lr` argument is deprecated, use `learning_rate` instead.\n",
      "  super(Adam, self).__init__(name, **kwargs)\n"
     ]
    },
    {
     "name": "stdout",
     "output_type": "stream",
     "text": [
      "Epoch 1/50\n",
      "246/246 [==============================] - ETA: 0s - loss: 0.6640 - accuracy: 0.6022\n",
      "Epoch 1: val_loss improved from inf to 0.64367, saving model to ./models/Baseline_RNN/weights-improvement- 1-0.6280.hdf5\n",
      "246/246 [==============================] - 63s 250ms/step - loss: 0.6640 - accuracy: 0.6022 - val_loss: 0.6437 - val_accuracy: 0.6280\n",
      "Epoch 2/50\n",
      "246/246 [==============================] - ETA: 0s - loss: 0.6631 - accuracy: 0.6073\n",
      "Epoch 2: val_loss did not improve from 0.64367\n",
      "246/246 [==============================] - 62s 251ms/step - loss: 0.6631 - accuracy: 0.6073 - val_loss: 0.6609 - val_accuracy: 0.6165\n",
      "Epoch 3/50\n",
      "246/246 [==============================] - ETA: 0s - loss: 0.6541 - accuracy: 0.6282\n",
      "Epoch 3: val_loss did not improve from 0.64367\n",
      "246/246 [==============================] - 59s 241ms/step - loss: 0.6541 - accuracy: 0.6282 - val_loss: 0.6461 - val_accuracy: 0.6400\n",
      "Epoch 4/50\n",
      "246/246 [==============================] - ETA: 0s - loss: 0.6470 - accuracy: 0.6492\n",
      "Epoch 4: val_loss did not improve from 0.64367\n",
      "246/246 [==============================] - 59s 241ms/step - loss: 0.6470 - accuracy: 0.6492 - val_loss: 0.6514 - val_accuracy: 0.6479\n",
      "Epoch 4: early stopping\n"
     ]
    }
   ],
   "source": [
    "def baseline_model():\n",
    "        \n",
    "    inputs = Input(shape = (max_seq_length, ))\n",
    "    embedding = Embedding(10000, 300, trainable=False, input_length = max_seq_length)(inputs)\n",
    "    rnn = SimpleRNN(32)(embedding)\n",
    "    outputs = Dense(1,activation = 'sigmoid')(rnn)\n",
    "    \n",
    "    model = Model(inputs = inputs, outputs = outputs)\n",
    "    opt = optimizers.Adam(lr=1e-3, decay = 1e-5)\n",
    "    model.compile(loss = 'binary_crossentropy',optimizer = opt, metrics=['accuracy'])\n",
    "    model.summary()\n",
    "    \n",
    "    return model\n",
    "    \n",
    "baseline = baseline_model()\n",
    "\n",
    "filepath = './models/Baseline_RNN/weights-improvement-{epoch: 02d}-{val_accuracy:.4f}.hdf5'\n",
    "\n",
    "earlyStopping = EarlyStopping(monitor='val_loss', patience = 3, verbose = 1, mode='min')\n",
    "checkpoint = ModelCheckpoint(filepath, monitor = 'val_loss', verbose = 1, save_best_only = True, mode='min')\n",
    "\n",
    "batch_size = 256\n",
    "epochs = 50\n",
    "\n",
    "history = baseline.fit(x = X_train, y = y_train, validation_split = 0.2,\n",
    "                        batch_size = batch_size, epochs = epochs, \n",
    "                        callbacks=[earlyStopping, checkpoint], verbose = 1)\n",
    "    "
   ]
  },
  {
   "cell_type": "code",
   "execution_count": null,
   "metadata": {
    "colab": {
     "base_uri": "https://localhost:8080/",
     "height": 422
    },
    "id": "KxWY8MoWchCR",
    "outputId": "c34c8913-5b5b-42e1-8326-35d9bda362bc"
   },
   "outputs": [
    {
     "data": {
      "image/png": "[encoded data removed]",
      "text/plain": [
       "<IPython.core.display.Image object>"
      ]
     },
     "execution_count": 10,
     "metadata": {},
     "output_type": "execute_result"
    }
   ],
   "source": [
    "plot_model(baseline, to_file = 'Baseline_RNN.png', show_shapes=True,  show_layer_activations=True)"
   ]
  },
  {
   "cell_type": "code",
   "execution_count": null,
   "metadata": {
    "id": "jmek2Zk5CW-t"
   },
   "outputs": [],
   "source": []
  },
  {
   "cell_type": "code",
   "execution_count": null,
   "metadata": {
    "colab": {
     "base_uri": "https://localhost:8080/",
     "height": 573
    },
    "id": "Lqnml9rwchAh",
    "outputId": "467967fc-4dc1-42c0-f674-cb8f7a2b0221"
   },
   "outputs": [
    {
     "data": {
      "image/png": "[encoded data removed]",
      "text/plain": [
       "<Figure size 432x288 with 1 Axes>"
      ]
     },
     "metadata": {
      "needs_background": "light"
     },
     "output_type": "display_data"
    },
    {
     "data": {
      "image/png": "[encoded data removed]",
      "text/plain": [
       "<Figure size 432x288 with 1 Axes>"
      ]
     },
     "metadata": {
      "needs_background": "light"
     },
     "output_type": "display_data"
    }
   ],
   "source": [
    "def plot_history(history):\n",
    "    \n",
    "    acc = history.history['accuracy']\n",
    "    val_acc = history.history['val_accuracy']\n",
    "    loss = history.history['loss']\n",
    "    val_loss = history.history['val_loss']\n",
    "    \n",
    "    epochs = range(1, len(acc) + 1)\n",
    "    \n",
    "    plt.plot(epochs, loss, label='Training loss')\n",
    "    plt.plot(epochs, val_loss,  label='Validation loss')\n",
    "    plt.title('Training and validation loss')\n",
    "    plt.xlabel('Epoch')\n",
    "    plt.legend()\n",
    "    \n",
    "\n",
    "    plt.figure()\n",
    "    plt.plot(epochs, acc, label='Training acc')\n",
    "    plt.plot(epochs, val_acc, label='Validation acc')\n",
    "    plt.title('Training and validation accuracy')\n",
    "    plt.xlabel('Epoch')\n",
    "    plt.legend()\n",
    "    \n",
    "    plt.show()\n",
    "    \n",
    "plot_history(history)"
   ]
  },
  {
   "cell_type": "code",
   "execution_count": null,
   "metadata": {
    "id": "xQuWTQefnr-A"
   },
   "outputs": [],
   "source": []
  },
  {
   "cell_type": "code",
   "execution_count": null,
   "metadata": {
    "colab": {
     "base_uri": "https://localhost:8080/"
    },
    "id": "D_g98sSYcg-m",
    "outputId": "1d36d825-7b7d-4a9a-aa34-9097bd35f990"
   },
   "outputs": [
    {
     "name": "stdout",
     "output_type": "stream",
     "text": [
      "820/820 [==============================] - 20s 24ms/step\n",
      "The prediction accuracy is:  0.6254765899039195\n"
     ]
    }
   ],
   "source": [
    "# Evaluate on test model: threshod = 0.5\n",
    "\n",
    "best_baseline = load_model('./models/Baseline_RNN/weights-improvement- 1-0.6280.hdf5')\n",
    "\n",
    "y_pred_baseline = best_baseline.predict(X_test)\n",
    "y_hat_baseline = np.where(y_pred_baseline > 0.5, 1, 0)\n",
    "print('The prediction accuracy is: ', np.sum(y_hat_baseline.ravel() == y_test.ravel())/len(y_test))\n"
   ]
  },
  {
   "cell_type": "code",
   "execution_count": null,
   "metadata": {
    "colab": {
     "base_uri": "https://localhost:8080/",
     "height": 295
    },
    "id": "DWel6MLCcg81",
    "outputId": "e796482e-19b2-413d-dbbb-92d87536c3f0"
   },
   "outputs": [
    {
     "data": {
      "image/png": "[encoded data removed]",
      "text/plain": [
       "<Figure size 432x288 with 1 Axes>"
      ]
     },
     "metadata": {
      "needs_background": "light"
     },
     "output_type": "display_data"
    }
   ],
   "source": [
    "# Plot the Area Under the Curve\n",
    "\n",
    "fpr, tpr, _ = sklearn.metrics.roc_curve(y_test, y_hat_baseline)\n",
    "roc_auc = sklearn.metrics.auc(fpr, tpr)\n",
    "plt.figure()\n",
    "lw = 2\n",
    "plt.plot(fpr, tpr, color='darkorange',\n",
    "         lw=lw, label='ROC curve (area = %0.2f)' % roc_auc)\n",
    "plt.plot([0, 1], [0, 1], color='navy', lw=lw, linestyle='--')\n",
    "plt.xlim([0.0, 1.0])\n",
    "plt.ylim([0.0, 1.05])\n",
    "plt.xlabel('False Positive Rate')\n",
    "plt.ylabel('True Positive Rate')\n",
    "plt.title('Receiver Operating Characteristic')\n",
    "plt.legend(loc=\"lower right\")\n",
    "plt.show()"
   ]
  },
  {
   "cell_type": "code",
   "execution_count": null,
   "metadata": {
    "colab": {
     "base_uri": "https://localhost:8080/",
     "height": 511
    },
    "id": "yMaBmIO-cg7J",
    "outputId": "22d67363-932b-4d5d-cca8-5a0407560424"
   },
   "outputs": [
    {
     "name": "stdout",
     "output_type": "stream",
     "text": [
      "              precision    recall  f1-score   support\n",
      "\n",
      "           0       0.57      0.40      0.47     10923\n",
      "           1       0.65      0.79      0.71     15305\n",
      "\n",
      "    accuracy                           0.63     26228\n",
      "   macro avg       0.61      0.59      0.59     26228\n",
      "weighted avg       0.62      0.63      0.61     26228\n",
      "\n"
     ]
    },
    {
     "data": {
      "image/png": "[encoded data removed]",
      "text/plain": [
       "<Figure size 360x360 with 1 Axes>"
      ]
     },
     "metadata": {
      "needs_background": "light"
     },
     "output_type": "display_data"
    }
   ],
   "source": [
    "# Plot confusion matrix and scores\n",
    "\n",
    "print(classification_report(y_test, y_hat_baseline))\n",
    "\n",
    "conf_matrix = confusion_matrix(y_test, y_hat_baseline)\n",
    "\n",
    "fig, ax = plt.subplots(figsize=(5, 5))\n",
    "ax.matshow(conf_matrix, cmap=plt.cm.Oranges, alpha=0.3)\n",
    "for i in range(conf_matrix.shape[0]):\n",
    "    for j in range(conf_matrix.shape[1]):\n",
    "        ax.text(x=j, y=i,s=conf_matrix[i, j], va='center', ha='center', size='xx-large')\n",
    " \n",
    "plt.xlabel('Predictions', fontsize=18)\n",
    "plt.ylabel('Actuals', fontsize=18)\n",
    "plt.title('Confusion Matrix', fontsize=18)\n",
    "plt.show()"
   ]
  },
  {
   "cell_type": "code",
   "execution_count": null,
   "metadata": {
    "id": "LPwP0eGYcg5x"
   },
   "outputs": [],
   "source": [
    "# save training data\n",
    "training_res = pd.DataFrame(columns=['epoch', 'acc', 'val_acc', 'loss', 'val_loss'])\n",
    "training_res['acc'] = history.history['accuracy']\n",
    "training_res['val_acc'] = history.history['val_accuracy']\n",
    "training_res['loss'] = history.history['loss']\n",
    "training_res['val_loss'] = history.history['val_loss'] \n",
    "training_res['epoch'] = range(1, len(training_res['acc']) + 1)\n",
    "training_res.to_csv('training_res_baseline_RNN.csv',index = False, encoding = 'utf-8')"
   ]
  },
  {
   "cell_type": "code",
   "execution_count": null,
   "metadata": {
    "id": "XWre0V6vcg47"
   },
   "outputs": [],
   "source": []
  },
  {
   "cell_type": "code",
   "execution_count": null,
   "metadata": {
    "id": "em73fJrOcg33"
   },
   "outputs": [],
   "source": []
  },
  {
   "cell_type": "code",
   "execution_count": null,
   "metadata": {
    "id": "BrrcFnAgcg2R"
   },
   "outputs": [],
   "source": []
  },
  {
   "cell_type": "code",
   "execution_count": null,
   "metadata": {
    "id": "fQJ2pwqGcg1h"
   },
   "outputs": [],
   "source": []
  },
  {
   "cell_type": "code",
   "execution_count": null,
   "metadata": {
    "id": "jZ0Hg8_9cg01"
   },
   "outputs": [],
   "source": []
  },
  {
   "cell_type": "code",
   "execution_count": null,
   "metadata": {
    "id": "7-1lsz88cg0G"
   },
   "outputs": [],
   "source": []
  },
  {
   "cell_type": "code",
   "execution_count": null,
   "metadata": {
    "id": "meT6gGtXcgzO"
   },
   "outputs": [],
   "source": []
  },
  {
   "cell_type": "code",
   "execution_count": null,
   "metadata": {
    "id": "wE7TQ9mPcgq9"
   },
   "outputs": [],
   "source": []
  },
  {
   "cell_type": "code",
   "execution_count": null,
   "metadata": {
    "id": "Yw5gfwhAcgoo"
   },
   "outputs": [],
   "source": []
  },
  {
   "cell_type": "code",
   "execution_count": null,
   "metadata": {
    "id": "XYzzjUjacgmK"
   },
   "outputs": [],
   "source": []
  },
  {
   "cell_type": "code",
   "execution_count": null,
   "metadata": {
    "id": "p-XbsdDMcgjV"
   },
   "outputs": [],
   "source": []
  },
  {
   "cell_type": "code",
   "execution_count": null,
   "metadata": {
    "id": "2aIv_8CAcge-"
   },
   "outputs": [],
   "source": []
  },
  {
   "cell_type": "code",
   "execution_count": null,
   "metadata": {
    "id": "NcZY-BB3cgcJ"
   },
   "outputs": [],
   "source": []
  }
 ],
 "metadata": {
  "colab": {
   "provenance": []
  },
  "kernelspec": {
   "display_name": "Python 3 (ipykernel)",
   "language": "python",
   "name": "python3"
  },
  "language_info": {
   "codemirror_mode": {
    "name": "ipython",
    "version": 3
   },
   "file_extension": ".py",
   "mimetype": "text/x-python",
   "name": "python",
   "nbconvert_exporter": "python",
   "pygments_lexer": "ipython3",
   "version": "3.9.12"
  }
 },
 "nbformat": 4,
 "nbformat_minor": 1
}
